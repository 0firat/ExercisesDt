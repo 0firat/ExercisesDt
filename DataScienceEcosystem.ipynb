{
 "cells": [
  {
   "cell_type": "markdown",
   "id": "060fb17b",
   "metadata": {},
   "source": [
    "#Data Science Tools and Ecosystem"
   ]
  },
  {
   "cell_type": "markdown",
   "id": "cc908558",
   "metadata": {},
   "source": [
    "In this notebook, Data Science Tools and Ecosystem are summarized."
   ]
  },
  {
   "cell_type": "markdown",
   "id": "6efd7f2d",
   "metadata": {},
   "source": [
    "**Objectives:**\n",
    "List popular languages for Data Science.\\\n",
    "-Python\\\n",
    "-Java\\\n",
    "-C++"
   ]
  },
  {
   "cell_type": "markdown",
   "id": "f114b80b",
   "metadata": {},
   "source": [
    "Some of the popular languages that Data Scientists use are:\\\n",
    "1-Java\\\n",
    "2-Python\\\n",
    "3-C++"
   ]
  },
  {
   "cell_type": "markdown",
   "id": "f34f510c",
   "metadata": {},
   "source": [
    "Some of the commonly used libraries used by Data Scientists include:\n",
    "1-Matplotlib\\\n",
    "2-Keras. \\\n",
    "3-Pillow. "
   ]
  },
  {
   "cell_type": "markdown",
   "id": "8a6ad76d",
   "metadata": {},
   "source": [
    "Data Science Tools\\\n",
    "1-InteliJ\\\n",
    "2-Eclips\\\n",
    "3-Visula Studio"
   ]
  },
  {
   "cell_type": "markdown",
   "id": "ac507891",
   "metadata": {},
   "source": [
    "###Below are a few examples of evaluating arithmetic expressions in Python."
   ]
  },
  {
   "cell_type": "code",
   "execution_count": null,
   "id": "6a39d60a",
   "metadata": {},
   "outputs": [],
   "source": [
    "a=(3*4)+5\n",
    "print('This a simple arithmetic expression to mutiply then add integers')\n",
    "print(a)"
   ]
  },
  {
   "cell_type": "code",
   "execution_count": null,
   "id": "5c5a3481",
   "metadata": {},
   "outputs": [],
   "source": []
  },
  {
   "cell_type": "code",
   "execution_count": null,
   "id": "d1ab57ba",
   "metadata": {},
   "outputs": [],
   "source": [
    "a=(3*4)+5\n",
    "print('This a simple arithmetic expression to mutiply then add integers')\n",
    "print(a)"
   ]
  },
  {
   "cell_type": "code",
   "execution_count": null,
   "id": "4d4ec995",
   "metadata": {},
   "outputs": [],
   "source": [
    " print('This will convert 200 minutes to hours by diving by 60')\n",
    "a=200/60\n",
    "print(a)"
   ]
  },
  {
   "cell_type": "markdown",
   "id": "8b7bac5b",
   "metadata": {},
   "source": [
    "## Author\n",
    "Olcay"
   ]
  },
  {
   "cell_type": "code",
   "execution_count": null,
   "id": "019d67f9",
   "metadata": {},
   "outputs": [],
   "source": []
  }
 ],
 "metadata": {
  "kernelspec": {
   "display_name": "Python 3 (ipykernel)",
   "language": "python",
   "name": "python3"
  },
  "language_info": {
   "codemirror_mode": {
    "name": "ipython",
    "version": 3
   },
   "file_extension": ".py",
   "mimetype": "text/x-python",
   "name": "python",
   "nbconvert_exporter": "python",
   "pygments_lexer": "ipython3",
   "version": "3.9.16"
  }
 },
 "nbformat": 4,
 "nbformat_minor": 5
}
