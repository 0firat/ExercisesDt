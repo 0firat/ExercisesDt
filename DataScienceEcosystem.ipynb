{
 "cells": [
  {
   "cell_type": "markdown",
   "id": "c7fbb1a6",
   "metadata": {},
   "source": [
    "# Data Science Tools and Ecosystem\n"
   ]
  },
  {
   "cell_type": "markdown",
   "id": "3cf7ae73",
   "metadata": {},
   "source": [
    "# In this notebook, Data Science Tools and Ecosystem are summarized."
   ]
  },
  {
   "cell_type": "markdown",
   "id": "7b2352c4",
   "metadata": {},
   "source": [
    "**Objectives:** \n",
    "    -Excel \n",
    "    -JupyterNotebook \n",
    "    -Notion"
   ]
  },
  {
   "cell_type": "markdown",
   "id": "c4333f81",
   "metadata": {},
   "source": [
    "Some of the popular languages that Data Scientists use are:\n",
    "    1.Python\n",
    "    2.R\n",
    "    3.SQL"
   ]
  },
  {
   "cell_type": "markdown",
   "id": "47e33bbf",
   "metadata": {},
   "source": [
    "Some of the commonly used libraries used by Data Scientists include:\n",
    "   "
   ]
  },
  {
   "cell_type": "markdown",
   "id": "9a3ad7c0",
   "metadata": {},
   "source": [
    "    1-Numpy\n",
    "    2-Matplotlib\n",
    "    3-Keras. \n",
    "    4-Pillow"
   ]
  },
  {
   "cell_type": "markdown",
   "id": "d5268053",
   "metadata": {},
   "source": [
    "#### example table\n",
    "|Data Science Tools|\n",
    "|-------------------------------|\n",
    "|Jupyter|\n",
    "|Power Center|\n",
    "|Excel|"
   ]
  },
  {
   "cell_type": "markdown",
   "id": "a67cbf0d",
   "metadata": {},
   "source": [
    "|Data Science Tools|\n",
    "|-------------------|\n",
    "|Jupyter|\n",
    "|Power Center|\n",
    "|Excel|\n"
   ]
  },
  {
   "cell_type": "markdown",
   "id": "a17c532e",
   "metadata": {},
   "source": [
    "###Below are a few examples of evaluating arithmetic expressions in Python"
   ]
  },
  {
   "cell_type": "code",
   "execution_count": 7,
   "id": "17dea078",
   "metadata": {
    "scrolled": true
   },
   "outputs": [
    {
     "name": "stdout",
     "output_type": "stream",
     "text": [
      "17\n"
     ]
    }
   ],
   "source": [
    "#This a simple arithmetic expression to mutiply then add integers.\n",
    "a=(3*4)+5\n",
    "print(a)"
   ]
  },
  {
   "cell_type": "code",
   "execution_count": 8,
   "id": "bc8a5934",
   "metadata": {},
   "outputs": [
    {
     "data": {
      "text/plain": [
       "3.3333333333333335"
      ]
     },
     "execution_count": 8,
     "metadata": {},
     "output_type": "execute_result"
    }
   ],
   "source": [
    "#This will convert 200 minutes to hours by diving by 60\n",
    "200/60"
   ]
  },
  {
   "cell_type": "markdown",
   "id": "cb92c81a",
   "metadata": {},
   "source": [
    "##Authorn\\\n",
    "Olcay"
   ]
  },
  {
   "cell_type": "code",
   "execution_count": null,
   "id": "a254bd63",
   "metadata": {},
   "outputs": [],
   "source": []
  }
 ],
 "metadata": {
  "celltoolbar": "Raw Cell Format",
  "kernelspec": {
   "display_name": "Python 3 (ipykernel)",
   "language": "python",
   "name": "python3"
  },
  "language_info": {
   "codemirror_mode": {
    "name": "ipython",
    "version": 3
   },
   "file_extension": ".py",
   "mimetype": "text/x-python",
   "name": "python",
   "nbconvert_exporter": "python",
   "pygments_lexer": "ipython3",
   "version": "3.9.16"
  }
 },
 "nbformat": 4,
 "nbformat_minor": 5
}
