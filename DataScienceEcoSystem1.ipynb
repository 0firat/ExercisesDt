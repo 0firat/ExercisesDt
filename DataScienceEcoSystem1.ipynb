{
 "cells": [
  {
   "cell_type": "markdown",
   "id": "9099aff8",
   "metadata": {},
   "source": [
    "#Data Science Tools and Ecosystem"
   ]
  },
  {
   "cell_type": "markdown",
   "id": "df7b0468",
   "metadata": {},
   "source": [
    "#Data Science Tools and Ecosystem "
   ]
  },
  {
   "cell_type": "code",
   "execution_count": 1,
   "id": "aa233aa2",
   "metadata": {},
   "outputs": [
    {
     "name": "stdout",
     "output_type": "stream",
     "text": [
      "In this notebook, Data Science Tools and Ecosystem are summarized.\n"
     ]
    }
   ],
   "source": [
    "print(\"In this notebook, Data Science Tools and Ecosystem are summarized.\")"
   ]
  },
  {
   "cell_type": "markdown",
   "id": "9bb71457",
   "metadata": {},
   "source": [
    "\"Some of the popular languages that Data Scientists use are:\"\n",
    "-Java\n",
    "-Python\n",
    "-C++"
   ]
  },
  {
   "cell_type": "code",
   "execution_count": 17,
   "id": "c710b8af",
   "metadata": {},
   "outputs": [
    {
     "ename": "SyntaxError",
     "evalue": "invalid syntax (410692537.py, line 4)",
     "output_type": "error",
     "traceback": [
      "\u001b[1;36m  File \u001b[1;32m\"C:\\Users\\Asuman\\AppData\\Local\\Temp\\ipykernel_14440\\410692537.py\"\u001b[1;36m, line \u001b[1;32m4\u001b[0m\n\u001b[1;33m    -C++\u001b[0m\n\u001b[1;37m        ^\u001b[0m\n\u001b[1;31mSyntaxError\u001b[0m\u001b[1;31m:\u001b[0m invalid syntax\n"
     ]
    }
   ],
   "source": [
    "Print(\"Some of the popular languages that Data Scientists use are:\")\n",
    "-Java\n",
    "-Python\n",
    "-C\n"
   ]
  },
  {
   "cell_type": "code",
   "execution_count": 18,
   "id": "7b558b1d",
   "metadata": {},
   "outputs": [
    {
     "ename": "NameError",
     "evalue": "name 'Print' is not defined",
     "output_type": "error",
     "traceback": [
      "\u001b[1;31m---------------------------------------------------------------------------\u001b[0m",
      "\u001b[1;31mNameError\u001b[0m                                 Traceback (most recent call last)",
      "\u001b[1;32m~\\AppData\\Local\\Temp\\ipykernel_14440\\4227997619.py\u001b[0m in \u001b[0;36m<module>\u001b[1;34m\u001b[0m\n\u001b[1;32m----> 1\u001b[1;33m \u001b[0mPrint\u001b[0m\u001b[1;33m(\u001b[0m\u001b[1;34m\"Some of the popular languages that Data Scientists use are:\"\u001b[0m\u001b[1;33m)\u001b[0m\u001b[1;33m\u001b[0m\u001b[1;33m\u001b[0m\u001b[0m\n\u001b[0m\u001b[0;32m      2\u001b[0m \u001b[1;33m-\u001b[0m\u001b[0mJava\u001b[0m\u001b[1;33m\u001b[0m\u001b[1;33m\u001b[0m\u001b[0m\n\u001b[0;32m      3\u001b[0m \u001b[1;33m-\u001b[0m\u001b[0mPython\u001b[0m\u001b[1;33m\u001b[0m\u001b[1;33m\u001b[0m\u001b[0m\n\u001b[0;32m      4\u001b[0m \u001b[1;33m-\u001b[0m\u001b[0mC\u001b[0m\u001b[1;33m\u001b[0m\u001b[1;33m\u001b[0m\u001b[0m\n",
      "\u001b[1;31mNameError\u001b[0m: name 'Print' is not defined"
     ]
    }
   ],
   "source": [
    "a=(\"Some of the popular languages that Data Scientists use are:\")\n",
    "b=(\"-Java\")\n",
    "c=(\"-Python\")\n",
    "d=(\"-C\")\n",
    "\n",
    "Print(a)\n",
    "Print(b)\n",
    "Print(c)\n",
    "Print(d)"
   ]
  },
  {
   "cell_type": "code",
   "execution_count": 19,
   "id": "2c238552",
   "metadata": {},
   "outputs": [
    {
     "ename": "NameError",
     "evalue": "name 'Print' is not defined",
     "output_type": "error",
     "traceback": [
      "\u001b[1;31m---------------------------------------------------------------------------\u001b[0m",
      "\u001b[1;31mNameError\u001b[0m                                 Traceback (most recent call last)",
      "\u001b[1;32m~\\AppData\\Local\\Temp\\ipykernel_14440\\2246394885.py\u001b[0m in \u001b[0;36m<module>\u001b[1;34m\u001b[0m\n\u001b[0;32m      4\u001b[0m \u001b[0md\u001b[0m\u001b[1;33m=\u001b[0m\u001b[1;33m(\u001b[0m\u001b[1;34m\"-C\"\u001b[0m\u001b[1;33m)\u001b[0m\u001b[1;33m\u001b[0m\u001b[1;33m\u001b[0m\u001b[0m\n\u001b[0;32m      5\u001b[0m \u001b[1;33m\u001b[0m\u001b[0m\n\u001b[1;32m----> 6\u001b[1;33m \u001b[0mPrint\u001b[0m\u001b[1;33m(\u001b[0m\u001b[0ma\u001b[0m\u001b[1;33m)\u001b[0m\u001b[1;33m\u001b[0m\u001b[1;33m\u001b[0m\u001b[0m\n\u001b[0m\u001b[0;32m      7\u001b[0m \u001b[0mPrint\u001b[0m\u001b[1;33m(\u001b[0m\u001b[0mb\u001b[0m\u001b[1;33m)\u001b[0m\u001b[1;33m\u001b[0m\u001b[1;33m\u001b[0m\u001b[0m\n\u001b[0;32m      8\u001b[0m \u001b[0mPrint\u001b[0m\u001b[1;33m(\u001b[0m\u001b[0mc\u001b[0m\u001b[1;33m)\u001b[0m\u001b[1;33m\u001b[0m\u001b[1;33m\u001b[0m\u001b[0m\n",
      "\u001b[1;31mNameError\u001b[0m: name 'Print' is not defined"
     ]
    }
   ],
   "source": [
    "a=(\"Some of the popular languages that Data Scientists use are:\")\n",
    "b=(\"-Java\")\n",
    "c=(\"-Python\")\n",
    "d=(\"-C\")\n",
    "\n"
   ]
  },
  {
   "cell_type": "markdown",
   "id": "2be98a1a",
   "metadata": {},
   "source": [
    "Some of the popular languages that Data Scientists use are:\")\n",
    "-Java\n",
    "-Python\n",
    "-C\n",
    "\n",
    "\n"
   ]
  },
  {
   "cell_type": "code",
   "execution_count": null,
   "id": "4f93ef28",
   "metadata": {},
   "outputs": [],
   "source": [
    "Some of the popular languages that Data Scientists use are:\n",
    "-Java\n",
    "-Python\n",
    "-C\n"
   ]
  },
  {
   "cell_type": "code",
   "execution_count": null,
   "id": "41475fca",
   "metadata": {},
   "outputs": [],
   "source": []
  },
  {
   "cell_type": "code",
   "execution_count": 21,
   "id": "d4fa88db",
   "metadata": {},
   "outputs": [
    {
     "ename": "SyntaxError",
     "evalue": "invalid syntax (3531847575.py, line 1)",
     "output_type": "error",
     "traceback": [
      "\u001b[1;36m  File \u001b[1;32m\"C:\\Users\\Asuman\\AppData\\Local\\Temp\\ipykernel_14440\\3531847575.py\"\u001b[1;36m, line \u001b[1;32m1\u001b[0m\n\u001b[1;33m    |Some of the popular languages that Data Scientists use are:|\u001b[0m\n\u001b[1;37m    ^\u001b[0m\n\u001b[1;31mSyntaxError\u001b[0m\u001b[1;31m:\u001b[0m invalid syntax\n"
     ]
    }
   ],
   "source": [
    "|Some of the popular languages that Data Scientists use are:|\n",
    "    -------------------------------------------------\n",
    "|Java|Python|\n",
    "|C++|"
   ]
  },
  {
   "cell_type": "code",
   "execution_count": null,
   "id": "599c5b2a",
   "metadata": {},
   "outputs": [],
   "source": [
    "Some of the popular languages that Data Scientists use are:\n",
    "-Java\n",
    "-Python\n",
    "-C"
   ]
  },
  {
   "cell_type": "markdown",
   "id": "9c882484",
   "metadata": {},
   "source": [
    "#Ali gel\n",
    "##Ali\n",
    "###Ali"
   ]
  },
  {
   "cell_type": "markdown",
   "id": "47ea6d17",
   "metadata": {},
   "source": [
    "#Ali gel \n",
    "##Ali \n",
    "###Ali"
   ]
  },
  {
   "cell_type": "code",
   "execution_count": 23,
   "id": "2a58dc1b",
   "metadata": {},
   "outputs": [
    {
     "ename": "SyntaxError",
     "evalue": "invalid syntax (3399126030.py, line 4)",
     "output_type": "error",
     "traceback": [
      "\u001b[1;36m  File \u001b[1;32m\"C:\\Users\\Asuman\\AppData\\Local\\Temp\\ipykernel_14440\\3399126030.py\"\u001b[1;36m, line \u001b[1;32m4\u001b[0m\n\u001b[1;33m    -C++\u001b[0m\n\u001b[1;37m        ^\u001b[0m\n\u001b[1;31mSyntaxError\u001b[0m\u001b[1;31m:\u001b[0m invalid syntax\n"
     ]
    }
   ],
   "source": [
    "\"Some of the popular languages that Data Scientists use are:\"\n",
    "-Java\n",
    "-Python\n",
    "-C++\n"
   ]
  },
  {
   "cell_type": "markdown",
   "id": "d62cb48a",
   "metadata": {},
   "source": [
    "Some of the popular languages that Data Scientists use are:\n",
    "-Java\n",
    "-Python\n",
    "-C++\n"
   ]
  },
  {
   "cell_type": "code",
   "execution_count": 24,
   "id": "10c25268",
   "metadata": {},
   "outputs": [
    {
     "ename": "NameError",
     "evalue": "name 'Java' is not defined",
     "output_type": "error",
     "traceback": [
      "\u001b[1;31m---------------------------------------------------------------------------\u001b[0m",
      "\u001b[1;31mNameError\u001b[0m                                 Traceback (most recent call last)",
      "\u001b[1;32m~\\AppData\\Local\\Temp\\ipykernel_14440\\950888681.py\u001b[0m in \u001b[0;36m<module>\u001b[1;34m\u001b[0m\n\u001b[0;32m      1\u001b[0m \u001b[1;34m\"Some of the popular languages that Data Scientists use are:\"\u001b[0m\u001b[1;33m\u001b[0m\u001b[1;33m\u001b[0m\u001b[0m\n\u001b[1;32m----> 2\u001b[1;33m \u001b[1;36m1\u001b[0m\u001b[1;33m-\u001b[0m\u001b[0mJava\u001b[0m\u001b[1;33m(\u001b[0m\u001b[1;33m)\u001b[0m\u001b[1;33m\u001b[0m\u001b[1;33m\u001b[0m\u001b[0m\n\u001b[0m\u001b[0;32m      3\u001b[0m \u001b[1;36m2\u001b[0m\u001b[1;33m-\u001b[0m\u001b[0mPython\u001b[0m\u001b[1;33m(\u001b[0m\u001b[1;33m)\u001b[0m\u001b[1;33m\u001b[0m\u001b[1;33m\u001b[0m\u001b[0m\n\u001b[0;32m      4\u001b[0m \u001b[1;36m3\u001b[0m\u001b[1;33m-\u001b[0m\u001b[0mC\u001b[0m\u001b[1;33m+\u001b[0m\u001b[1;33m+\u001b[0m\u001b[1;33m(\u001b[0m\u001b[1;33m)\u001b[0m\u001b[1;33m\u001b[0m\u001b[1;33m\u001b[0m\u001b[0m\n",
      "\u001b[1;31mNameError\u001b[0m: name 'Java' is not defined"
     ]
    }
   ],
   "source": [
    "\"Some of the popular languages that Data Scientists use are:\"\n",
    "/1-Java\n",
    "/2-Python\n",
    "/3-C++"
   ]
  },
  {
   "cell_type": "markdown",
   "id": "d5264881",
   "metadata": {},
   "source": [
    "Some of the popular languages that Data Scientists use are:\n",
    "1-Java\n",
    "2-Python\n",
    "3-C++\n"
   ]
  },
  {
   "cell_type": "code",
   "execution_count": 25,
   "id": "ddeeba7f",
   "metadata": {},
   "outputs": [
    {
     "ename": "NameError",
     "evalue": "name 'Java' is not defined",
     "output_type": "error",
     "traceback": [
      "\u001b[1;31m---------------------------------------------------------------------------\u001b[0m",
      "\u001b[1;31mNameError\u001b[0m                                 Traceback (most recent call last)",
      "\u001b[1;32m~\\AppData\\Local\\Temp\\ipykernel_14440\\950888681.py\u001b[0m in \u001b[0;36m<module>\u001b[1;34m\u001b[0m\n\u001b[0;32m      1\u001b[0m \u001b[1;34m\"Some of the popular languages that Data Scientists use are:\"\u001b[0m\u001b[1;33m\u001b[0m\u001b[1;33m\u001b[0m\u001b[0m\n\u001b[1;32m----> 2\u001b[1;33m \u001b[1;36m1\u001b[0m\u001b[1;33m-\u001b[0m\u001b[0mJava\u001b[0m\u001b[1;33m(\u001b[0m\u001b[1;33m)\u001b[0m\u001b[1;33m\u001b[0m\u001b[1;33m\u001b[0m\u001b[0m\n\u001b[0m\u001b[0;32m      3\u001b[0m \u001b[1;36m2\u001b[0m\u001b[1;33m-\u001b[0m\u001b[0mPython\u001b[0m\u001b[1;33m(\u001b[0m\u001b[1;33m)\u001b[0m\u001b[1;33m\u001b[0m\u001b[1;33m\u001b[0m\u001b[0m\n\u001b[0;32m      4\u001b[0m \u001b[1;36m3\u001b[0m\u001b[1;33m-\u001b[0m\u001b[0mC\u001b[0m\u001b[1;33m+\u001b[0m\u001b[1;33m+\u001b[0m\u001b[1;33m(\u001b[0m\u001b[1;33m)\u001b[0m\u001b[1;33m\u001b[0m\u001b[1;33m\u001b[0m\u001b[0m\n",
      "\u001b[1;31mNameError\u001b[0m: name 'Java' is not defined"
     ]
    }
   ],
   "source": [
    "\"Some of the popular languages that Data Scientists use are:\"\n",
    "/1-Java\n",
    "/2-Python\n",
    "/3-C++"
   ]
  },
  {
   "cell_type": "markdown",
   "id": "08407030",
   "metadata": {},
   "source": [
    "\"Some of the popular languages that Data Scientists use are:\"\n",
    "/1-Java\n",
    "/2-Python\n",
    "/3-C++\n"
   ]
  },
  {
   "cell_type": "code",
   "execution_count": 26,
   "id": "0d869c3a",
   "metadata": {},
   "outputs": [
    {
     "ename": "NameError",
     "evalue": "name 'n1' is not defined",
     "output_type": "error",
     "traceback": [
      "\u001b[1;31m---------------------------------------------------------------------------\u001b[0m",
      "\u001b[1;31mNameError\u001b[0m                                 Traceback (most recent call last)",
      "\u001b[1;32m~\\AppData\\Local\\Temp\\ipykernel_14440\\3080003305.py\u001b[0m in \u001b[0;36m<module>\u001b[1;34m\u001b[0m\n\u001b[0;32m      1\u001b[0m \u001b[1;34m\"Some of the popular languages that Data Scientists use are:\"\u001b[0m\u001b[1;33m\u001b[0m\u001b[1;33m\u001b[0m\u001b[0m\n\u001b[1;32m----> 2\u001b[1;33m \u001b[0mn1\u001b[0m\u001b[1;33m-\u001b[0m\u001b[0mJava\u001b[0m\u001b[1;33m(\u001b[0m\u001b[1;33m)\u001b[0m\u001b[1;33m\u001b[0m\u001b[1;33m\u001b[0m\u001b[0m\n\u001b[0m\u001b[0;32m      3\u001b[0m \u001b[0mn2\u001b[0m\u001b[1;33m-\u001b[0m\u001b[0mPython\u001b[0m\u001b[1;33m(\u001b[0m\u001b[1;33m)\u001b[0m\u001b[1;33m\u001b[0m\u001b[1;33m\u001b[0m\u001b[0m\n\u001b[0;32m      4\u001b[0m \u001b[0mn3\u001b[0m\u001b[1;33m-\u001b[0m\u001b[0mC\u001b[0m\u001b[1;33m+\u001b[0m\u001b[1;33m+\u001b[0m\u001b[1;33m(\u001b[0m\u001b[1;33m)\u001b[0m\u001b[1;33m\u001b[0m\u001b[1;33m\u001b[0m\u001b[0m\n",
      "\u001b[1;31mNameError\u001b[0m: name 'n1' is not defined"
     ]
    }
   ],
   "source": [
    "\"Some of the popular languages that Data Scientists use are:\"\n",
    "/n1-Java\n",
    "/n2-Python\n",
    "/n3-C++"
   ]
  },
  {
   "cell_type": "markdown",
   "id": "54075766",
   "metadata": {},
   "source": [
    "\"Some of the popular languages that Data Scientists use are:\"\\\n",
    "1-Java\\\n",
    "2-Python\\\n",
    "3-C++"
   ]
  },
  {
   "cell_type": "code",
   "execution_count": 27,
   "id": "54df71a5",
   "metadata": {},
   "outputs": [
    {
     "name": "stdout",
     "output_type": "stream",
     "text": [
      "17\n"
     ]
    }
   ],
   "source": [
    "a=(3*4)+5\n",
    "\n",
    "print(a)\n"
   ]
  },
  {
   "cell_type": "code",
   "execution_count": 28,
   "id": "c010a9f8",
   "metadata": {},
   "outputs": [
    {
     "data": {
      "text/plain": [
       "3.3333333333333335"
      ]
     },
     "execution_count": 28,
     "metadata": {},
     "output_type": "execute_result"
    }
   ],
   "source": [
    "200/60\n"
   ]
  },
  {
   "cell_type": "code",
   "execution_count": null,
   "id": "eeb2d2c6",
   "metadata": {},
   "outputs": [],
   "source": []
  },
  {
   "cell_type": "code",
   "execution_count": null,
   "id": "f8cd88b4",
   "metadata": {},
   "outputs": [],
   "source": [
    "a=(3*4)+5\n",
    "\n",
    "print(a)"
   ]
  },
  {
   "cell_type": "code",
   "execution_count": null,
   "id": "7490afe4",
   "metadata": {},
   "outputs": [],
   "source": []
  },
  {
   "cell_type": "code",
   "execution_count": null,
   "id": "e4842c7e",
   "metadata": {},
   "outputs": [],
   "source": []
  },
  {
   "cell_type": "code",
   "execution_count": null,
   "id": "b8d29c61",
   "metadata": {},
   "outputs": [],
   "source": [
    "a=(3*4)+5\n",
    "\n",
    "print(a)"
   ]
  },
  {
   "cell_type": "code",
   "execution_count": null,
   "id": "8e644698",
   "metadata": {},
   "outputs": [],
   "source": [
    "a=(3*4)+5\n",
    "\n",
    "print(a)"
   ]
  },
  {
   "cell_type": "code",
   "execution_count": null,
   "id": "ccabda38",
   "metadata": {},
   "outputs": [],
   "source": []
  }
 ],
 "metadata": {
  "kernelspec": {
   "display_name": "Python 3 (ipykernel)",
   "language": "python",
   "name": "python3"
  },
  "language_info": {
   "codemirror_mode": {
    "name": "ipython",
    "version": 3
   },
   "file_extension": ".py",
   "mimetype": "text/x-python",
   "name": "python",
   "nbconvert_exporter": "python",
   "pygments_lexer": "ipython3",
   "version": "3.9.13"
  }
 },
 "nbformat": 4,
 "nbformat_minor": 5
}
